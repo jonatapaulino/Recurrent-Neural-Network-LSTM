{
  "nbformat": 4,
  "nbformat_minor": 0,
  "metadata": {
    "kernelspec": {
      "name": "python3",
      "display_name": "Python 3"
    },
    "colab": {
      "name": "Análise Sentimento Tweets LSTM.ipynb",
      "provenance": [],
      "collapsed_sections": [],
      "toc_visible": true,
      "include_colab_link": true
    },
    "accelerator": "GPU"
  },
  "cells": [
    {
      "cell_type": "markdown",
      "metadata": {
        "id": "view-in-github",
        "colab_type": "text"
      },
      "source": [
        "<a href=\"https://colab.research.google.com/github/jonatapaulino/Recurrent-Neural-Network-LSTM/blob/master/Ana%CC%81lise_Sentimento_Tweets_LSTM.ipynb\" target=\"_parent\"><img src=\"https://colab.research.google.com/assets/colab-badge.svg\" alt=\"Open In Colab\"/></a>"
      ]
    },
    {
      "cell_type": "markdown",
      "metadata": {
        "id": "ueZa841a6jge"
      },
      "source": [
        "## Importações"
      ]
    },
    {
      "cell_type": "code",
      "metadata": {
        "id": "KkdS-FAT6r5J",
        "outputId": "d27f4240-91fa-4915-8590-9191a6d933af",
        "colab": {
          "base_uri": "https://localhost:8080/",
          "height": 34
        }
      },
      "source": [
        "from google.colab import drive\n",
        "drive.mount('/content/drive')"
      ],
      "execution_count": 1,
      "outputs": [
        {
          "output_type": "stream",
          "text": [
            "Mounted at /content/drive\n"
          ],
          "name": "stdout"
        }
      ]
    },
    {
      "cell_type": "code",
      "metadata": {
        "id": "Cxixvvo46jgh",
        "outputId": "04891ae2-ab2c-4aac-c31a-e0f85be01f1e",
        "colab": {
          "base_uri": "https://localhost:8080/",
          "height": 68
        }
      },
      "source": [
        "import numpy as np\n",
        "import pandas as pd\n",
        "\n",
        "from keras.preprocessing.text import Tokenizer\n",
        "from keras.preprocessing.sequence import pad_sequences\n",
        "from keras.preprocessing.text import text_to_word_sequence\n",
        "from keras.models import Model\n",
        "from keras.callbacks import Callback\n",
        "from keras import backend as K\n",
        "\n",
        "from keras.layers import Input\n",
        "from keras.layers import Dense\n",
        "from keras.layers import Embedding\n",
        "from keras.layers import LSTM, Bidirectional\n",
        "#from keras import backend\n",
        "\n",
        "import re, os\n",
        "\n",
        "from sklearn.model_selection import train_test_split\n",
        "from sklearn.metrics import f1_score, precision_score, recall_score, confusion_matrix\n",
        "from sklearn.metrics import roc_curve, auc, roc_auc_score\n",
        "from sklearn.preprocessing import normalize\n",
        "\n",
        "import matplotlib\n",
        "import matplotlib.pyplot as plt\n",
        "from nltk.corpus import stopwords\n",
        "from tqdm import tqdm\n",
        "import nltk\n",
        "nltk.download('stopwords')"
      ],
      "execution_count": 48,
      "outputs": [
        {
          "output_type": "stream",
          "text": [
            "[nltk_data] Downloading package stopwords to /root/nltk_data...\n",
            "[nltk_data]   Package stopwords is already up-to-date!\n"
          ],
          "name": "stdout"
        },
        {
          "output_type": "execute_result",
          "data": {
            "text/plain": [
              "True"
            ]
          },
          "metadata": {
            "tags": []
          },
          "execution_count": 48
        }
      ]
    },
    {
      "cell_type": "markdown",
      "metadata": {
        "id": "KNl2ptRs6jgo"
      },
      "source": [
        "## Configurações Iniciais"
      ]
    },
    {
      "cell_type": "code",
      "metadata": {
        "id": "GLtszJBc6jgp"
      },
      "source": [
        "seed = 7\n",
        "seed = np.random.seed(seed)\n",
        "\n",
        "# O model será exportado para este arquivo\n",
        "#filename='C:/analisesentimentoLSTM/model/model_saved.h5'\n",
        "filename='/content/drive/My Drive/Redes LSTM FINAL/model'\n",
        "\n",
        "epochs = 30\n",
        "# dimensionalidade do word embedding pré-treinado\n",
        "word_embedding_dim = 50\n",
        "\n",
        "# número de amostras a serem utilizadas em cada atualização do gradiente\n",
        "batch_size = 40\n",
        "\n",
        "# Reflete a quantidade máxima de palavras que iremos manter no vocabulário\n",
        "max_fatures = 6000\n",
        "\n",
        "# dimensão de saída da camada Embedding\n",
        "embed_dim = 128\n",
        "\n",
        "# limitamos o tamanho máximo de todas as sentenças\n",
        "max_sequence_length = 300\n",
        "\n",
        "pre_trained_wv = True\n",
        "\n",
        "bilstm = False"
      ],
      "execution_count": 58,
      "outputs": []
    },
    {
      "cell_type": "markdown",
      "metadata": {
        "id": "w-kWc0u96jgt"
      },
      "source": [
        "## Funções"
      ]
    },
    {
      "cell_type": "code",
      "metadata": {
        "id": "H7AXRRaQ6jgu"
      },
      "source": [
        "def clean_str(string):\n",
        "    string = re.sub(r\"[^A-Za-z0-9(),!?\\'\\`]\", \" \", string)\n",
        "    string = re.sub(r\"\\'s\", \" \\'s\", string)\n",
        "    string = re.sub(r\"\\'ve\", \" \\'ve\", string)\n",
        "    string = re.sub(r\"n\\'t\", \" n\\'t\", string)\n",
        "    string = re.sub(r\"\\'re\", \" \\'re\", string)\n",
        "    string = re.sub(r\"\\'d\", \" \\'d\", string)\n",
        "    string = re.sub(r\"\\'ll\", \" \\'ll\", string)\n",
        "    string = re.sub(r\",\", \" , \", string)\n",
        "    string = re.sub(r\"!\", \" ! \", string)\n",
        "    string = re.sub(r\"\\(\", \" \\( \", string)\n",
        "    string = re.sub(r\"\\)\", \" \\) \", string)\n",
        "    string = re.sub(r\"\\?\", \" \\? \", string)\n",
        "    string = re.sub(r\"\\s{2,}\", \" \", string)\n",
        "    cleanr = re.compile('<.*?>')\n",
        "    string = re.sub(r'\\d+', '', string)\n",
        "    string = re.sub(cleanr, '', string)\n",
        "    string = re.sub(\"'\", '', string)\n",
        "    string = re.sub(r'\\W+', ' ', string)\n",
        "    string = string.replace('_', '')\n",
        "\n",
        "    return string.strip().lower()\n"
      ],
      "execution_count": 50,
      "outputs": []
    },
    {
      "cell_type": "code",
      "metadata": {
        "id": "GkLYI4XF6jgy"
      },
      "source": [
        "def prepare_data(data):\n",
        "    \n",
        "    data = data[['texto', 'sentimento']]\n",
        "\n",
        "    data['texto'] = data['texto'].apply(lambda x: x.lower())\n",
        "    data['texto'] = data['texto'].apply(lambda x: clean_str(x))\n",
        "    data['texto'] = data['texto'].apply((lambda x: re.sub('[^a-zA-z0-9\\s]','',x)))\n",
        "    \n",
        "    stop_words = set(stopwords.words('portuguese'))\n",
        "    text = []\n",
        "    for row in data[\"texto\"].values:\n",
        "        word_list = text_to_word_sequence(row)\n",
        "        no_stop_words = [w for w in word_list if not w in stop_words]\n",
        "        no_stop_words = \" \".join(no_stop_words)\n",
        "        text.append(no_stop_words)\n",
        "\n",
        "\n",
        "    tokenizer = Tokenizer(num_words=max_fatures, split=' ')\n",
        "\n",
        "    tokenizer.fit_on_texts(text)\n",
        "    X = tokenizer.texts_to_sequences(text)  \n",
        "    \n",
        "    X = pad_sequences(X, maxlen=max_sequence_length)\n",
        "    #X = pad_sequences(X)\n",
        "\n",
        "    word_index = tokenizer.word_index\n",
        "    Y = pd.get_dummies(data['sentimento']).values\n",
        "    X_train, X_test, Y_train, Y_test = train_test_split(X,Y, test_size = 0.20, random_state = 42)\n",
        "\n",
        "    return X_train, X_test, Y_train, Y_test, word_index, tokenizer"
      ],
      "execution_count": 51,
      "outputs": []
    },
    {
      "cell_type": "code",
      "metadata": {
        "id": "ZGmI4wrb6jg2"
      },
      "source": [
        "def load_pre_trained_wv(word_index, num_words, word_embedding_dim):\n",
        "    embeddings_index = {}\n",
        "    f = open(os.path.join('/content/drive/My Drive/Redes LSTM FINAL/word_embedding/glove.6B.50d.txt'.format(word_embedding_dim)), encoding='utf-8')\n",
        "    for line in tqdm(f):\n",
        "        values = line.rstrip().rsplit(' ')\n",
        "        word = values[0]\n",
        "        coefs = np.asarray(values[1:], dtype='float32')\n",
        "        embeddings_index[word] = coefs\n",
        "    f.close()\n",
        "\n",
        "    print('%s word vectors.' % len(embeddings_index))\n",
        "\n",
        "    embedding_matrix = np.zeros((num_words, word_embedding_dim))\n",
        "    for word, i in word_index.items():\n",
        "        if i >= max_fatures:\n",
        "            continue\n",
        "        embedding_vector = embeddings_index.get(word)\n",
        "        if embedding_vector is not None:\n",
        "            embedding_matrix[i] = embedding_vector\n",
        "\n",
        "    return embedding_matrix"
      ],
      "execution_count": 52,
      "outputs": []
    },
    {
      "cell_type": "markdown",
      "metadata": {
        "id": "Gz7r7t2q6jg7"
      },
      "source": [
        "### Modelo"
      ]
    },
    {
      "cell_type": "code",
      "metadata": {
        "id": "UhzywSRa6jg8"
      },
      "source": [
        "def build_model():\n",
        "    if pre_trained_wv is True:\n",
        "        print(\"USE PRE TRAINED\")\n",
        "        num_words = min(max_fatures, len(word_index) + 1)\n",
        "        weights_embedding_matrix = load_pre_trained_wv(word_index, num_words, word_embedding_dim)\n",
        "        input_shape = (max_sequence_length,)\n",
        "        model_input = Input(shape=input_shape, name=\"input\", dtype='int32')    \n",
        "        embedding = Embedding(\n",
        "            num_words, \n",
        "            word_embedding_dim,\n",
        "            input_length=max_sequence_length, \n",
        "            name=\"embedding\", \n",
        "            weights=[weights_embedding_matrix], \n",
        "            trainable=False)(model_input)\n",
        "        if bilstm is True:\n",
        "            lstm = Bidirectional(LSTM(word_embedding_dim, dropout=0.2, recurrent_dropout=0.2, name=\"lstm\"))(embedding)\n",
        "        else:\n",
        "            lstm = LSTM(word_embedding_dim, dropout=0.2, recurrent_dropout=0.2, name=\"lstm\")(embedding)\n",
        "\n",
        "    else:\n",
        "        input_shape = (max_sequence_length,)\n",
        "        model_input = Input(shape=input_shape, name=\"input\", dtype='int32')    \n",
        "\n",
        "        embedding = Embedding(max_fatures, embed_dim, input_length=max_sequence_length, name=\"embedding\")(model_input)\n",
        "        \n",
        "        if bilstm is True:\n",
        "            lstm = Bidirectional(LSTM(embed_dim, dropout=0.2, recurrent_dropout=0.2, name=\"lstm\"))(embedding)\n",
        "        else:\n",
        "            lstm = LSTM(embed_dim, dropout=0.2, recurrent_dropout=0.2, name=\"lstm\")(embedding)\n",
        "    \n",
        "    model_output = Dense(2, activation='softmax', name=\"softmax\")(lstm)\n",
        "    model = Model(inputs=model_input, outputs=model_output)\n",
        "    return model"
      ],
      "execution_count": 53,
      "outputs": []
    },
    {
      "cell_type": "markdown",
      "metadata": {
        "id": "27b_mY1v6jhA"
      },
      "source": [
        "### Funções da F1"
      ]
    },
    {
      "cell_type": "code",
      "metadata": {
        "id": "5bAJrSwr6jhB"
      },
      "source": [
        "def recall_m(y_true, y_pred):\n",
        "    true_positives = K.sum(K.round(K.clip(y_true * y_pred, 0, 1)))\n",
        "    possible_positives = K.sum(K.round(K.clip(y_true, 0, 1)))\n",
        "    recall = true_positives / (possible_positives + K.epsilon())\n",
        "    return recall\n",
        "\n",
        "def precision_m(y_true, y_pred):\n",
        "    true_positives = K.sum(K.round(K.clip(y_true * y_pred, 0, 1)))\n",
        "    predicted_positives = K.sum(K.round(K.clip(y_pred, 0, 1)))\n",
        "    precision = true_positives / (predicted_positives + K.epsilon())\n",
        "    return precision\n",
        "\n",
        "def f1_m(y_true, y_pred):\n",
        "    precision = precision_m(y_true, y_pred)\n",
        "    recall = recall_m(y_true, y_pred)\n",
        "    return 2*((precision*recall)/(precision+recall+K.epsilon()))"
      ],
      "execution_count": 54,
      "outputs": []
    },
    {
      "cell_type": "markdown",
      "metadata": {
        "id": "cNPhuJtP6jhF"
      },
      "source": [
        "## Execução"
      ]
    },
    {
      "cell_type": "markdown",
      "metadata": {
        "id": "X3Atws6v6jhG"
      },
      "source": [
        "### Leitura de dados"
      ]
    },
    {
      "cell_type": "code",
      "metadata": {
        "id": "5DwguIQ26jhH"
      },
      "source": [
        "#data = pd.read_excel('./dataset/imdb.xlsx') # Lembre de instalar o pacote 'xlrd'\n",
        "#data = pd.read_excel('C:/analisesentimentoLSTM/basernrlstm2.xlsx')\n",
        "data = pd.read_excel('/content/drive/My Drive/Redes LSTM FINAL/basernrlstm2.xlsx')\n",
        "#data.drop_duplicates()\n",
        "\n",
        "X_train, X_test, Y_train, Y_test, word_index, tokenizer = prepare_data(data)"
      ],
      "execution_count": 55,
      "outputs": []
    },
    {
      "cell_type": "markdown",
      "metadata": {
        "id": "b6ENKvx980lr"
      },
      "source": [
        ""
      ]
    },
    {
      "cell_type": "markdown",
      "metadata": {
        "id": "tiOTsyr-6jhL"
      },
      "source": [
        "### Treinamento"
      ]
    },
    {
      "cell_type": "markdown",
      "metadata": {
        "id": "qkItfXwT6jhM"
      },
      "source": [
        "Criação ou leitura do modelo"
      ]
    },
    {
      "cell_type": "code",
      "metadata": {
        "id": "btbsMqxC6jhM",
        "outputId": "3fdd57dd-adfa-4160-c48f-aca1ce3865ec",
        "colab": {
          "base_uri": "https://localhost:8080/",
          "height": 105
        }
      },
      "source": [
        "# Se existir um modelo salvo, o programa irá ler ele\n",
        "if not os.path.exists('./{}'.format(filename) ):\n",
        "    # Criação do modelo\n",
        "    model = build_model()\n",
        "    modelo.compile(optimizer='adam', loss='mean_squared_error',\n",
        "                   metrics=['accuracy', f1_m])\n",
        "    model.save_weights(filename)\n",
        "else:\n",
        "    model.load_weights('./{}'.format(filename))"
      ],
      "execution_count": 59,
      "outputs": [
        {
          "output_type": "stream",
          "text": [
            "6606it [00:00, 66056.76it/s]"
          ],
          "name": "stderr"
        },
        {
          "output_type": "stream",
          "text": [
            "USE PRE TRAINED\n"
          ],
          "name": "stdout"
        },
        {
          "output_type": "stream",
          "text": [
            "400000it [00:06, 62066.74it/s]\n"
          ],
          "name": "stderr"
        },
        {
          "output_type": "stream",
          "text": [
            "400000 word vectors.\n",
            "WARNING:tensorflow:Layer lstm will not use cuDNN kernel since it doesn't meet the cuDNN kernel criteria. It will use generic GPU kernel as fallback when running on GPU\n"
          ],
          "name": "stdout"
        }
      ]
    },
    {
      "cell_type": "markdown",
      "metadata": {
        "id": "2_Q_oU9W6jhR"
      },
      "source": [
        "Treinamento"
      ]
    },
    {
      "cell_type": "code",
      "metadata": {
        "id": "y9xshdn76jhT",
        "outputId": "44cbbd09-45d9-46df-ba2b-d5309a4b5fa3",
        "colab": {
          "base_uri": "https://localhost:8080/",
          "height": 1000
        }
      },
      "source": [
        "hist = modelo.fit(X_train, Y_train, validation_data=(X_test, Y_test),\n",
        "                  epochs=epochs, batch_size=batch_size, shuffle=True,\n",
        "                  verbose=1)\n",
        "\n",
        "scores = modelo.evaluate(X_test, Y_test, verbose=0,\n",
        "                         batch_size=batch_size)\n",
        "\n",
        "print(\"Acurácia: %.2f%%\" % (scores[1]*100))"
      ],
      "execution_count": 60,
      "outputs": [
        {
          "output_type": "stream",
          "text": [
            "Epoch 1/30\n",
            "61/61 [==============================] - 64s 1s/step - loss: 0.1928 - accuracy: 0.7318 - f1_m: 0.7319 - val_loss: 0.1849 - val_accuracy: 0.7072 - val_f1_m: 0.7156\n",
            "Epoch 2/30\n",
            "61/61 [==============================] - 64s 1s/step - loss: 0.1552 - accuracy: 0.7791 - f1_m: 0.7801 - val_loss: 0.1431 - val_accuracy: 0.7944 - val_f1_m: 0.7922\n",
            "Epoch 3/30\n",
            "61/61 [==============================] - 64s 1s/step - loss: 0.1348 - accuracy: 0.8095 - f1_m: 0.8098 - val_loss: 0.1320 - val_accuracy: 0.8092 - val_f1_m: 0.8063\n",
            "Epoch 4/30\n",
            "61/61 [==============================] - 63s 1s/step - loss: 0.2483 - accuracy: 0.7273 - f1_m: 0.7280 - val_loss: 0.2826 - val_accuracy: 0.7007 - val_f1_m: 0.7094\n",
            "Epoch 5/30\n",
            "61/61 [==============================] - 63s 1s/step - loss: 0.1853 - accuracy: 0.7664 - f1_m: 0.7667 - val_loss: 0.1521 - val_accuracy: 0.7763 - val_f1_m: 0.7813\n",
            "Epoch 6/30\n",
            "61/61 [==============================] - 64s 1s/step - loss: 0.1347 - accuracy: 0.8132 - f1_m: 0.8137 - val_loss: 0.1341 - val_accuracy: 0.8076 - val_f1_m: 0.8047\n",
            "Epoch 7/30\n",
            "61/61 [==============================] - 64s 1s/step - loss: 0.1246 - accuracy: 0.8276 - f1_m: 0.8275 - val_loss: 0.1259 - val_accuracy: 0.8076 - val_f1_m: 0.8047\n",
            "Epoch 8/30\n",
            "61/61 [==============================] - 64s 1s/step - loss: 0.1203 - accuracy: 0.8330 - f1_m: 0.8336 - val_loss: 0.1241 - val_accuracy: 0.8158 - val_f1_m: 0.8125\n",
            "Epoch 9/30\n",
            "61/61 [==============================] - 64s 1s/step - loss: 0.1163 - accuracy: 0.8396 - f1_m: 0.8398 - val_loss: 0.1275 - val_accuracy: 0.8125 - val_f1_m: 0.8156\n",
            "Epoch 10/30\n",
            "61/61 [==============================] - 64s 1s/step - loss: 0.1098 - accuracy: 0.8507 - f1_m: 0.8514 - val_loss: 0.1183 - val_accuracy: 0.8306 - val_f1_m: 0.8391\n",
            "Epoch 11/30\n",
            "61/61 [==============================] - 64s 1s/step - loss: 0.1042 - accuracy: 0.8568 - f1_m: 0.8572 - val_loss: 0.1146 - val_accuracy: 0.8438 - val_f1_m: 0.8516\n",
            "Epoch 12/30\n",
            "61/61 [==============================] - 64s 1s/step - loss: 0.1019 - accuracy: 0.8585 - f1_m: 0.8589 - val_loss: 0.1200 - val_accuracy: 0.8339 - val_f1_m: 0.8422\n",
            "Epoch 13/30\n",
            "61/61 [==============================] - 64s 1s/step - loss: 0.0991 - accuracy: 0.8659 - f1_m: 0.8664 - val_loss: 0.1132 - val_accuracy: 0.8306 - val_f1_m: 0.8391\n",
            "Epoch 14/30\n",
            "61/61 [==============================] - 64s 1s/step - loss: 0.0940 - accuracy: 0.8758 - f1_m: 0.8757 - val_loss: 0.1081 - val_accuracy: 0.8536 - val_f1_m: 0.8609\n",
            "Epoch 15/30\n",
            "61/61 [==============================] - 64s 1s/step - loss: 0.0925 - accuracy: 0.8721 - f1_m: 0.8726 - val_loss: 0.1079 - val_accuracy: 0.8520 - val_f1_m: 0.8594\n",
            "Epoch 16/30\n",
            "61/61 [==============================] - 64s 1s/step - loss: 0.0885 - accuracy: 0.8828 - f1_m: 0.8834 - val_loss: 0.1064 - val_accuracy: 0.8470 - val_f1_m: 0.8547\n",
            "Epoch 17/30\n",
            "61/61 [==============================] - 64s 1s/step - loss: 0.0856 - accuracy: 0.8848 - f1_m: 0.8854 - val_loss: 0.1063 - val_accuracy: 0.8586 - val_f1_m: 0.8656\n",
            "Epoch 18/30\n",
            "61/61 [==============================] - 64s 1s/step - loss: 0.0815 - accuracy: 0.8918 - f1_m: 0.8917 - val_loss: 0.1054 - val_accuracy: 0.8454 - val_f1_m: 0.8531\n",
            "Epoch 19/30\n",
            "61/61 [==============================] - 65s 1s/step - loss: 0.0817 - accuracy: 0.8910 - f1_m: 0.8914 - val_loss: 0.1069 - val_accuracy: 0.8602 - val_f1_m: 0.8672\n",
            "Epoch 20/30\n",
            "61/61 [==============================] - 64s 1s/step - loss: 0.0803 - accuracy: 0.8968 - f1_m: 0.8973 - val_loss: 0.1048 - val_accuracy: 0.8503 - val_f1_m: 0.8578\n",
            "Epoch 21/30\n",
            "61/61 [==============================] - 65s 1s/step - loss: 0.0784 - accuracy: 0.8910 - f1_m: 0.8913 - val_loss: 0.1019 - val_accuracy: 0.8668 - val_f1_m: 0.8734\n",
            "Epoch 22/30\n",
            "61/61 [==============================] - 64s 1s/step - loss: 0.0716 - accuracy: 0.9120 - f1_m: 0.9123 - val_loss: 0.1017 - val_accuracy: 0.8684 - val_f1_m: 0.8750\n",
            "Epoch 23/30\n",
            "61/61 [==============================] - 64s 1s/step - loss: 0.0728 - accuracy: 0.9050 - f1_m: 0.9047 - val_loss: 0.1027 - val_accuracy: 0.8602 - val_f1_m: 0.8672\n",
            "Epoch 24/30\n",
            "61/61 [==============================] - 64s 1s/step - loss: 0.0706 - accuracy: 0.9074 - f1_m: 0.9082 - val_loss: 0.1028 - val_accuracy: 0.8586 - val_f1_m: 0.8656\n",
            "Epoch 25/30\n",
            "61/61 [==============================] - 65s 1s/step - loss: 0.0670 - accuracy: 0.9161 - f1_m: 0.9158 - val_loss: 0.1019 - val_accuracy: 0.8668 - val_f1_m: 0.8734\n",
            "Epoch 26/30\n",
            "61/61 [==============================] - 64s 1s/step - loss: 0.0660 - accuracy: 0.9148 - f1_m: 0.9152 - val_loss: 0.1006 - val_accuracy: 0.8668 - val_f1_m: 0.8734\n",
            "Epoch 27/30\n",
            "61/61 [==============================] - 64s 1s/step - loss: 0.0624 - accuracy: 0.9210 - f1_m: 0.9217 - val_loss: 0.0997 - val_accuracy: 0.8701 - val_f1_m: 0.8766\n",
            "Epoch 28/30\n",
            "61/61 [==============================] - 64s 1s/step - loss: 0.0640 - accuracy: 0.9165 - f1_m: 0.9163 - val_loss: 0.1008 - val_accuracy: 0.8635 - val_f1_m: 0.8703\n",
            "Epoch 29/30\n",
            "61/61 [==============================] - 64s 1s/step - loss: 0.0603 - accuracy: 0.9223 - f1_m: 0.9227 - val_loss: 0.0993 - val_accuracy: 0.8701 - val_f1_m: 0.8766\n",
            "Epoch 30/30\n",
            "61/61 [==============================] - 64s 1s/step - loss: 0.0590 - accuracy: 0.9260 - f1_m: 0.9266 - val_loss: 0.1005 - val_accuracy: 0.8701 - val_f1_m: 0.8766\n",
            "Acurácia: 87.01%\n"
          ],
          "name": "stdout"
        }
      ]
    },
    {
      "cell_type": "markdown",
      "metadata": {
        "id": "5aK5ezg_6jhd"
      },
      "source": [
        "## Plots"
      ]
    },
    {
      "cell_type": "markdown",
      "metadata": {
        "id": "ufIkKN_26jhe"
      },
      "source": [
        "### Cross-Entropy"
      ]
    },
    {
      "cell_type": "code",
      "metadata": {
        "id": "dmiFviUz6jhf",
        "outputId": "7b4a57b5-d733-4b26-e65f-ad3b21792371",
        "colab": {
          "base_uri": "https://localhost:8080/",
          "height": 295
        }
      },
      "source": [
        "plt.figure()\n",
        "plt.plot(hist.history['loss'], lw=2.0, color='b', label='train')\n",
        "plt.plot(hist.history['val_loss'], lw=2.0, color='r', label='val')\n",
        "plt.title('Criminals classifier')\n",
        "plt.xlabel('Epochs')\n",
        "plt.ylabel('Cross-Entropy')\n",
        "plt.legend(loc='upper right')\n",
        "plt.title('Cross-Entropy')\n",
        "plt.show()"
      ],
      "execution_count": 61,
      "outputs": [
        {
          "output_type": "display_data",
          "data": {
            "image/png": "[encoded data removed]",
            "text/plain": [
              "<Figure size 432x288 with 1 Axes>"
            ]
          },
          "metadata": {
            "tags": [],
            "needs_background": "light"
          }
        }
      ]
    },
    {
      "cell_type": "markdown",
      "metadata": {
        "id": "v5Tnrtip6jhk"
      },
      "source": [
        "### F1 score"
      ]
    },
    {
      "cell_type": "code",
      "metadata": {
        "id": "W1asVT3S6jhl",
        "outputId": "d9587118-862b-4a4e-dd72-a08655764a02",
        "colab": {
          "base_uri": "https://localhost:8080/",
          "height": 295
        }
      },
      "source": [
        "plt.figure()\n",
        "plt.plot(hist.history['f1_m'], lw=2.0, color='b', label='train')\n",
        "plt.plot(hist.history['val_accuracy'], lw=2.0, color='r', label='val')\n",
        "plt.title('Criminals classifier')\n",
        "plt.xlabel('Epochs')\n",
        "plt.ylabel('f1_score')\n",
        "plt.legend(loc='upper left')\n",
        "plt.title('F1 Score')\n",
        "plt.show()"
      ],
      "execution_count": 62,
      "outputs": [
        {
          "output_type": "display_data",
          "data": {
            "image/png": "[encoded data removed]",
            "text/plain": [
              "<Figure size 432x288 with 1 Axes>"
            ]
          },
          "metadata": {
            "tags": [],
            "needs_background": "light"
          }
        }
      ]
    },
    {
      "cell_type": "markdown",
      "metadata": {
        "id": "0N46BEDJ6jhr"
      },
      "source": [
        "### Curva ROC"
      ]
    },
    {
      "cell_type": "code",
      "metadata": {
        "id": "0jSHBea86jhs",
        "outputId": "00a7b45b-bd18-4eaf-f280-b9cf2948a3c1",
        "colab": {
          "base_uri": "https://localhost:8080/",
          "height": 295
        }
      },
      "source": [
        "Y_pred = modelo.predict(X_test)\n",
        "\n",
        "# Compute ROC curve and ROC area for each class\n",
        "fpr = dict()\n",
        "tpr = dict()\n",
        "roc_auc = dict()\n",
        "for i in range(2):\n",
        "    fpr[i], tpr[i], _ = roc_curve(Y_test[:, i], Y_pred[:, i])\n",
        "    roc_auc[i] = auc(fpr[i], tpr[i])\n",
        "\n",
        "# Plot\n",
        "plt.figure()\n",
        "lw = 2\n",
        "plt.plot(fpr[1], tpr[1], color='darkorange',\n",
        "         lw=lw, label='ROC curve (area = %0.2f)' % roc_auc[1])\n",
        "plt.plot([0, 1], [0, 1], color='navy', lw=lw, linestyle='--')\n",
        "plt.xlim([0.0, 1.0])\n",
        "plt.ylim([0.0, 1.05])\n",
        "plt.xlabel('False Positive Rate')\n",
        "plt.ylabel('True Positive Rate')\n",
        "plt.title('ROC Curve')\n",
        "plt.legend(loc=\"lower right\")\n",
        "plt.show()"
      ],
      "execution_count": null,
      "outputs": [
        {
          "output_type": "display_data",
          "data": {
            "image/png": "[encoded data removed]",
            "text/plain": [
              "<Figure size 432x288 with 1 Axes>"
            ]
          },
          "metadata": {
            "tags": [],
            "needs_background": "light"
          }
        }
      ]
    },
    {
      "cell_type": "markdown",
      "metadata": {
        "id": "eAR6yBH6svpT"
      },
      "source": [
        "### Matriz de Confusão\n"
      ]
    },
    {
      "cell_type": "code",
      "metadata": {
        "id": "mMscZQ2Ns--H",
        "outputId": "a5d3e1e6-604f-498a-d778-2c113be5681a",
        "colab": {
          "base_uri": "https://localhost:8080/",
          "height": 295
        }
      },
      "source": [
        "import pandas as pd\n",
        "import numpy as np\n",
        "import seaborn as sns\n",
        "import matplotlib.pyplot as plt\n",
        "\n",
        "Y_pred = model.predict(X_test)\n",
        "Y_pred = np.round(Y_pred)\n",
        "Y_pred = Y_pred.astype(int)\n",
        "    \n",
        "Y_test_tmp = []\n",
        "for i in Y_test:\n",
        "    if i[0] == 0:\n",
        "        Y_test_tmp.append(0)\n",
        "    else:            \n",
        "        Y_test_tmp.append(1)\n",
        "\n",
        "Y_pred_tmp = []\n",
        "for i in Y_pred:\n",
        "    if i[0] == 0:\n",
        "        # Y_pred_tmp.append('crime')\n",
        "        Y_pred_tmp.append(0)\n",
        "    else:            \n",
        "        # Y_pred_tmp.append('naocrime')\n",
        "        Y_pred_tmp.append(1)\n",
        "        \n",
        "    #mc = confusion_matrix(Y_test_tmp, Y_pred_tmp)\n",
        "    #print (mc)\n",
        "    \n",
        "    #from sklearn.metrics import confusion_matrix\n",
        "\n",
        "labels = ['crime', 'naocrime']\n",
        "cm = confusion_matrix(Y_test_tmp, Y_pred_tmp)\n",
        "# 1-sns.heatmap(cm, annot=True)\n",
        "# 2- sns.heatmap(cm, annot=True, linewidths=0.5, linecolor=\"red\", fmt=\".0f\", ax=ax)\n",
        "# sns.heatmap(cm, cmap=\"Blues\", annot=True, annot_kws={\"size\": 16})\n",
        "sns.heatmap(cm/np.sum(cm), annot=True, fmt=\".2%\", cmap=\"Blues\")\n",
        "#print(cm)\n",
        "#fig = plt.figure()\n",
        "#ax = fig.add_subplot(111)\n",
        "#cax = ax.matshow(cm)\n",
        "plt.title('Confusion matrix of the classifier')\n",
        "#fig.colorbar(cax)\n",
        "ax.set_xticklabels([''] + labels)\n",
        "ax.set_yticklabels([''] + labels)\n",
        "plt.xlabel('Predicted')\n",
        "plt.ylabel('True')\n",
        "plt.show()\n",
        "#============= Plot Matrix de confusão =============#"
      ],
      "execution_count": 89,
      "outputs": [
        {
          "output_type": "display_data",
          "data": {
            "image/png": "[encoded data removed]",
            "text/plain": [
              "<Figure size 432x288 with 2 Axes>"
            ]
          },
          "metadata": {
            "tags": [],
            "needs_background": "light"
          }
        }
      ]
    },
    {
      "cell_type": "markdown",
      "metadata": {
        "id": "-RHaDu_sC90w"
      },
      "source": [
        "### Arquitetura da Rede"
      ]
    },
    {
      "cell_type": "code",
      "metadata": {
        "id": "2BeIavI1DkVw",
        "outputId": "33d8c4f5-2241-45bd-edd0-3729fcd93b59",
        "colab": {
          "base_uri": "https://localhost:8080/",
          "height": 422
        }
      },
      "source": [
        "from keras.utils.vis_utils import plot_model\n",
        "plot_model(modelo, \n",
        "           to_file='model_plot.png', \n",
        "           show_shapes=True, \n",
        "           show_layer_names=True)"
      ],
      "execution_count": 91,
      "outputs": [
        {
          "output_type": "execute_result",
          "data": {
            "image/png": "[encoded data removed]",
            "text/plain": [
              "<IPython.core.display.Image object>"
            ]
          },
          "metadata": {
            "tags": []
          },
          "execution_count": 91
        }
      ]
    },
    {
      "cell_type": "code",
      "metadata": {
        "id": "QvQWL8ZND8ZD",
        "outputId": "d790313d-0788-4bd9-e27d-dc89f4fa8341",
        "colab": {
          "base_uri": "https://localhost:8080/",
          "height": 306
        }
      },
      "source": [
        "print(modelo.summary())"
      ],
      "execution_count": 92,
      "outputs": [
        {
          "output_type": "stream",
          "text": [
            "Model: \"functional_5\"\n",
            "_________________________________________________________________\n",
            "Layer (type)                 Output Shape              Param #   \n",
            "=================================================================\n",
            "input (InputLayer)           [(None, 300)]             0         \n",
            "_________________________________________________________________\n",
            "embedding (Embedding)        (None, 300, 50)           298350    \n",
            "_________________________________________________________________\n",
            "lstm (LSTM)                  (None, 50)                20200     \n",
            "_________________________________________________________________\n",
            "softmax (Dense)              (None, 2)                 102       \n",
            "=================================================================\n",
            "Total params: 318,652\n",
            "Trainable params: 20,302\n",
            "Non-trainable params: 298,350\n",
            "_________________________________________________________________\n",
            "None\n"
          ],
          "name": "stdout"
        }
      ]
    },
    {
      "cell_type": "code",
      "metadata": {
        "id": "gvu-9VlB9IHV",
        "outputId": "5f14afa2-e777-41d7-f3ce-e29ad5318581",
        "colab": {
          "base_uri": "https://localhost:8080/",
          "height": 103
        }
      },
      "source": [
        "'''\n",
        "# Arquitetura da nossa rede\n",
        "from ann_visualizer.visualize import ann_viz;\n",
        "from keras.models import model_from_json\n",
        "import numpy\n",
        "\n",
        "# fix random seed for reproducibility\n",
        "numpy.random.seed(7)\n",
        "\n",
        "# load json and create model\n",
        "json_file = open('model.json', 'r')\n",
        "loaded_model_json = json_file.read()\n",
        "json_file.close()\n",
        "\n",
        "model = model_from_json(loaded_model_json)\n",
        "\n",
        "# load weights into new model\n",
        "model.load_weights(\"model.h5\")\n",
        "\n",
        "ann_viz(model, title=\"Artificial Neural network - Model Visualization\")\n",
        "'''"
      ],
      "execution_count": 90,
      "outputs": [
        {
          "output_type": "execute_result",
          "data": {
            "application/vnd.google.colaboratory.intrinsic+json": {
              "type": "string"
            },
            "text/plain": [
              "'\\n# Arquitetura da nossa rede\\nfrom ann_visualizer.visualize import ann_viz;\\nfrom keras.models import model_from_json\\nimport numpy\\n\\n# fix random seed for reproducibility\\nnumpy.random.seed(7)\\n\\n# load json and create model\\njson_file = open(\\'model.json\\', \\'r\\')\\nloaded_model_json = json_file.read()\\njson_file.close()\\n\\nmodel = model_from_json(loaded_model_json)\\n\\n# load weights into new model\\nmodel.load_weights(\"model.h5\")\\n\\nann_viz(model, title=\"Artificial Neural network - Model Visualization\")\\n'"
            ]
          },
          "metadata": {
            "tags": []
          },
          "execution_count": 90
        }
      ]
    },
    {
      "cell_type": "code",
      "metadata": {
        "id": "bYq_p0-KPmqh"
      },
      "source": [
        ""
      ],
      "execution_count": null,
      "outputs": []
    }
  ]
}